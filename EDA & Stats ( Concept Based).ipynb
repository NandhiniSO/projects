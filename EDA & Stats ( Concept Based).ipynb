{
 "cells": [
  {
   "cell_type": "markdown",
   "id": "a433a07c",
   "metadata": {},
   "source": [
    "# Project Name "
   ]
  },
  {
   "cell_type": "markdown",
   "id": "af3487cc",
   "metadata": {},
   "source": [
    "# EDA and Statistical Analysis of FIFA Case Study"
   ]
  },
  {
   "cell_type": "markdown",
   "id": "f318601a",
   "metadata": {},
   "source": [
    "# Goals\n",
    "1. Using the core statistical theoretical concepts and knowledge to solve real time problem \n",
    "statements.\n",
    "2. Visualize a real time industry scenario where one can use these statistical concepts.\n",
    "3. Detailed data analysis and number crunching using statistics\n",
    "4. Exhaustive report building using EDA and visualization techniques to help the business \n",
    "take decisions using insights from the data"
   ]
  },
  {
   "cell_type": "markdown",
   "id": "9a3bd9cc",
   "metadata": {},
   "source": [
    "# Specifications\n",
    "Part -I is concept based and walks you through various concepts of descriptive statistics, probability \n",
    "distributions and inferential statistics including confidence intervals and hypothesis testing.\n"
   ]
  },
  {
   "cell_type": "markdown",
   "id": "3c1b1a42",
   "metadata": {},
   "source": [
    "# Import Libraries"
   ]
  },
  {
   "cell_type": "code",
   "execution_count": 2,
   "id": "a63f3d3b",
   "metadata": {},
   "outputs": [],
   "source": [
    "import pandas as pd\n",
    "import numpy as np\n",
    "\n",
    "import math\n",
    "\n",
    "import matplotlib.pyplot as plt\n",
    "%matplotlib inline\n",
    "import seaborn as sns\n",
    "\n",
    "import statistics\n",
    "from scipy import stats\n",
    "\n",
    "import scipy.special\n",
    "import scipy.stats as stats\n",
    "import scipy.special\n"
   ]
  },
  {
   "cell_type": "markdown",
   "id": "5c684313",
   "metadata": {},
   "source": [
    "# PART-A ( Concept Based)"
   ]
  },
  {
   "cell_type": "markdown",
   "id": "3b9f9a0a",
   "metadata": {},
   "source": [
    "# The following are the BMI of 50 young adults\n",
    "17.5 18.0 36.8 31.7 31.7\n",
    "17.3 24.3 47.7 38.5 17.0\n",
    "23.7 16.5 25.1 17.4 18.0\n",
    "37.6 19.7 21.4 28.6 21.6\n",
    "19.3 20.0 16.9 25.2 19.8\n",
    "25.0 17.2 20.4 20.1 29.1\n",
    "19.1 25.2 23.2 25.9 24.0\n",
    "41.7 24.0 16.8 26.8 31.4\n",
    "16.9 17.2 24.1 35.2 19.1\n",
    "22.9 18.2 25.4 35.4 25.5\n",
    "\n",
    "Use this data for answering following questions where relevan"
   ]
  },
  {
   "cell_type": "code",
   "execution_count": 4,
   "id": "39da5140",
   "metadata": {},
   "outputs": [
    {
     "name": "stdout",
     "output_type": "stream",
     "text": [
      "0     17.5\n",
      "1     18.0\n",
      "2     36.8\n",
      "3     31.7\n",
      "4     31.7\n",
      "5     17.3\n",
      "6     24.3\n",
      "7     47.7\n",
      "8     38.5\n",
      "9     17.0\n",
      "10    23.7\n",
      "11    16.5\n",
      "12    25.1\n",
      "13    17.4\n",
      "14    18.0\n",
      "15    37.6\n",
      "16    19.7\n",
      "17    21.4\n",
      "18    28.6\n",
      "19    21.6\n",
      "20    19.3\n",
      "21    20.0\n",
      "22    16.9\n",
      "23    25.2\n",
      "24    19.8\n",
      "25    25.0\n",
      "26    17.2\n",
      "27    20.4\n",
      "28    20.1\n",
      "29    29.1\n",
      "30    19.1\n",
      "31    25.2\n",
      "32    23.2\n",
      "33    25.9\n",
      "34    24.0\n",
      "35    41.7\n",
      "36    24.0\n",
      "37    16.8\n",
      "38    26.8\n",
      "39    31.4\n",
      "40    16.9\n",
      "41    17.2\n",
      "42    24.1\n",
      "43    35.2\n",
      "44    19.1\n",
      "45    22.9\n",
      "46    18.2\n",
      "47    25.4\n",
      "48    35.4\n",
      "49    25.5\n",
      "dtype: float64\n"
     ]
    }
   ],
   "source": [
    "bmi = [17.5, 18.0, 36.8, 31.7, 31.7, 17.3, 24.3, 47.7, 38.5, 17.0, 23.7, 16.5, 25.1, 17.4, 18.0, 37.6, 19.7, 21.4, 28.6, 21.6,\n",
    "       19.3, 20.0, 16.9, 25.2, 19.8, 25.0, 17.2, 20.4, 20.1, 29.1, 19.1, 25.2, 23.2, 25.9, 24.0, 41.7, 24.0, 16.8, 26.8, 31.4,\n",
    "       16.9, 17.2, 24.1, 35.2, 19.1, 22.9, 18.2, 25.4, 35.4, 25.5]\n",
    "\n",
    "BMI = pd.Series(bmi)\n",
    "\n",
    "print(BMI)"
   ]
  },
  {
   "cell_type": "markdown",
   "id": "ccb49894",
   "metadata": {},
   "source": [
    "# Q1. Compute the mean, median and the mode of the data"
   ]
  },
  {
   "cell_type": "code",
   "execution_count": 5,
   "id": "efd23e7a",
   "metadata": {},
   "outputs": [
    {
     "name": "stdout",
     "output_type": "stream",
     "text": [
      "Mean BMI: 24.421999999999997\n",
      "Median BMI: 23.45\n",
      "Mode BMI: 16.9\n"
     ]
    }
   ],
   "source": [
    "# Compute the mean\n",
    "mean_bmi = BMI.mean()\n",
    "\n",
    "# Compute the median\n",
    "median_bmi = BMI.median()\n",
    "\n",
    "# Compute the mode\n",
    "mode_bmi = BMI.mode()\n",
    "\n",
    "print(\"Mean BMI:\", mean_bmi)\n",
    "print(\"Median BMI:\", median_bmi)\n",
    "print(\"Mode BMI:\", mode_bmi[0]) "
   ]
  },
  {
   "cell_type": "markdown",
   "id": "a3809aee",
   "metadata": {},
   "source": [
    "# Insight\n",
    "Using the Pandas Series, this code computes the mean, median, and mode of the BMI data. The.mean() function returns the mean, the.median() method returns the median, and the.mode() method returns the mode (which may have several values if the data contains different modes)."
   ]
  },
  {
   "cell_type": "markdown",
   "id": "3e2205c7",
   "metadata": {},
   "source": [
    "# Q2. Compute the range , variance and standard deviation of BMI"
   ]
  },
  {
   "cell_type": "code",
   "execution_count": 10,
   "id": "fd0119f2",
   "metadata": {},
   "outputs": [
    {
     "name": "stdout",
     "output_type": "stream",
     "text": [
      "Range of BMI: 31.200000000000003\n",
      "Variance of BMI: 54.56093469387753\n",
      "Standard Deviation of BMI: 7.3865373954159015\n"
     ]
    }
   ],
   "source": [
    "# Compute the range\n",
    "range_bmi = BMI.max() - BMI.min()\n",
    "\n",
    "# Compute the variance\n",
    "variance_bmi = BMI.var()\n",
    "\n",
    "# Compute the standard deviation\n",
    "std_deviation_bmi = BMI.std()\n",
    "\n",
    "print(\"Range of BMI:\", range_bmi)\n",
    "print(\"Variance of BMI:\", variance_bmi)\n",
    "print(\"Standard Deviation of BMI:\", std_deviation_bmi)"
   ]
  },
  {
   "cell_type": "markdown",
   "id": "25f3877e",
   "metadata": {},
   "source": [
    "# Insight\n",
    "In this code, we first import the statistics module. Then, we calculate the range by finding the difference between the maximum and minimum values in the data using max(BMI) and min(BMI). We calculate the variance using statistics.variance() and the standard deviation using statistics.stdev(). Finally, we print the results."
   ]
  },
  {
   "cell_type": "markdown",
   "id": "5e608c04",
   "metadata": {},
   "source": [
    "# Q3. Find the mean deviation for the data . The mean deviation is defined as below.\n"
   ]
  },
  {
   "cell_type": "code",
   "execution_count": 7,
   "id": "28f9d04e",
   "metadata": {},
   "outputs": [
    {
     "name": "stdout",
     "output_type": "stream",
     "text": [
      "Mean Deviation of BMI: 5.6424\n"
     ]
    }
   ],
   "source": [
    "# Calculate the mean of the BMI Series\n",
    "mean_bmi = BMI.mean()\n",
    "\n",
    "# Calculate the absolute deviations from the mean\n",
    "abs_deviations = abs(BMI - mean_bmi)\n",
    "\n",
    "# Calculate the mean deviation\n",
    "mean_deviation = abs_deviations.mean()\n",
    "\n",
    "print(\"Mean Deviation of BMI:\", mean_deviation)"
   ]
  },
  {
   "cell_type": "markdown",
   "id": "5947cab5",
   "metadata": {},
   "source": [
    "# Insight\n",
    "In this code, we first compute the mean of the data, then compute the absolute differences between each data point and the mean, and lastly compute the mean of these absolute differences to get the mean deviation."
   ]
  },
  {
   "cell_type": "markdown",
   "id": "224ebcbb",
   "metadata": {},
   "source": [
    "# Q4. Calculate the Pearson coefficient of skewness and comment on the skewness of the data\n",
    "[A measure to determine the skewness of a distribution is called the Pearson coefficient of skewness.] \n",
    "\n",
    "Skewness= 3*(Mean−Median)/ Standard Deviation\n",
    "\n",
    " \n",
    "The value of the coefficient if skewness usually ranges from –3 to 3. \n",
    "\n",
    "When the distribution is symmetric, the coefficient is zero; \n",
    "\n",
    "when the distribution is positively skewed , the coefficient is positive, and \n",
    "\n",
    "when the distribution is negatively skewed the coefficient is negative."
   ]
  },
  {
   "cell_type": "code",
   "execution_count": 12,
   "id": "abb2ba55",
   "metadata": {},
   "outputs": [
    {
     "name": "stdout",
     "output_type": "stream",
     "text": [
      "Pearson Coefficient of Skewness: 0.39477225171968505\n",
      "The distribution is positively skewed.\n"
     ]
    }
   ],
   "source": [
    "# Calculate the mean of the BMI Series\n",
    "mean_bmi = BMI.mean()\n",
    "\n",
    "# Calculate the median of the BMI Series\n",
    "median_bmi = BMI.median()\n",
    "\n",
    "# Calculate the standard deviation of the BMI Series\n",
    "std_deviation_bmi = BMI.std()\n",
    "\n",
    "# Calculate the Pearson coefficient of skewness\n",
    "skewness = 3 * (mean_bmi - median_bmi) / std_deviation_bmi\n",
    "\n",
    "print(\"Pearson Coefficient of Skewness:\", skewness)\n",
    "\n",
    "# Comment on the skewness\n",
    "if skewness == 0:\n",
    "    comment = \"The distribution is symmetric.\"\n",
    "elif skewness > 0:\n",
    "    comment = \"The distribution is positively skewed.\"\n",
    "else:\n",
    "    comment = \"The distribution is negatively skewed.\"\n",
    "\n",
    "print(comment)"
   ]
  },
  {
   "cell_type": "markdown",
   "id": "3077624b",
   "metadata": {},
   "source": [
    "# Insight\n",
    "The Pearson coefficient of skewness is computed using the previously stated formula. The sign of the coefficient is used to interpret the skewness:\n",
    "\n",
    "If the coefficient is positive, the distribution is positively skewed. A negatively skewed distribution is indicated by a negative coefficient. If the coefficient is zero, the distribution is symmetric (not skewed). You can use this code to assess the skewness of the BMI data and observe the Pearson coefficient of skewness interpretation.."
   ]
  },
  {
   "cell_type": "markdown",
   "id": "a19b8d56",
   "metadata": {},
   "source": [
    "# Q5. Count the number of data values that fall within one standard deviation of the mean. Compare this with the answer from Chebyshev’s Theorem.\n"
   ]
  },
  {
   "cell_type": "code",
   "execution_count": 33,
   "id": "7a159aff",
   "metadata": {},
   "outputs": [
    {
     "name": "stdout",
     "output_type": "stream",
     "text": [
      "Number of data values within one standard deviation of the mean: 38\n",
      "Expected count according to Chebyshev's Theorem: 37.5\n"
     ]
    }
   ],
   "source": [
    "# Calculate the mean (average) and standard deviation\n",
    "mean_BMI = statistics.mean(BMI)\n",
    "std_deviation_BMI = statistics.stdev(BMI)\n",
    "\n",
    "# Calculate the range within one standard deviation from the mean\n",
    "lower_bound = mean_BMI - std_deviation_BMI\n",
    "upper_bound = mean_BMI + std_deviation_BMI\n",
    "\n",
    "# Count the number of data values within the range\n",
    "count_within_range = len([x for x in BMI if lower_bound <= x <= upper_bound])\n",
    "\n",
    "# Print the result\n",
    "print(\"Number of data values within one standard deviation of the mean:\", count_within_range)\n",
    "\n",
    "# Chebyshev's Theorem: At least (1 - 1/k^2) of the data falls within k standard deviations of the mean\n",
    "k = 2  # You can change the value of k as needed\n",
    "expected_count = len(BMI) * (1 - 1 / k**2)\n",
    "print(\"Expected count according to Chebyshev's Theorem:\", expected_count)"
   ]
  },
  {
   "cell_type": "code",
   "execution_count": 14,
   "id": "c33a640e",
   "metadata": {},
   "outputs": [
    {
     "name": "stdout",
     "output_type": "stream",
     "text": [
      "Number of data values within one standard deviation of the mean: 38\n",
      "Minimum number of data values within one standard deviation (Chebyshev's Theorem): 50\n"
     ]
    }
   ],
   "source": [
    "# Calculate the mean (average) of the BMI Series\n",
    "mean_bmi = BMI.mean()\n",
    "\n",
    "# Calculate the standard deviation of the BMI Series\n",
    "std_deviation_bmi = BMI.std()\n",
    "\n",
    "# Count the number of data values within one standard deviation of the mean\n",
    "within_one_std_dev = ((BMI >= mean_bmi - std_deviation_bmi) & (BMI <= mean_bmi + std_deviation_bmi)).sum()\n",
    "\n",
    "print(\"Number of data values within one standard deviation of the mean:\", within_one_std_dev)\n",
    "\n",
    "# Use Chebyshev's Theorem to estimate the minimum number of data values within one standard deviation\n",
    "# Chebyshev's Theorem states that at least (1 - 1/k^2) of the data falls within k standard deviations from the mean.\n",
    "# For k = 1, we have at least (1 - 1/1^2) = 0 data points within one standard deviation.\n",
    "min_within_one_std_chebyshev = len(BMI)\n",
    "\n",
    "print(\"Minimum number of data values within one standard deviation (Chebyshev's Theorem):\", min_within_one_std_chebyshev)"
   ]
  },
  {
   "cell_type": "markdown",
   "id": "38a193c3",
   "metadata": {},
   "source": [
    "# Insight\n",
    "\n",
    "We compute the mean and standard deviation, identify the range within one standard deviation of the mean, and count the number of data values that fall inside this range in this code. For comparison, we compute the expected count using Chebyshev's Theorem.\n",
    "\n",
    "To compare the actual count with Chebyshev's Theorem for different values of k, we can vary the value of \"k\" in the code. \n",
    "The more precisely the data corresponds to Chebyshev's Theorem, the closer the actual count is to the expected count."
   ]
  },
  {
   "cell_type": "markdown",
   "id": "b01192c8",
   "metadata": {},
   "source": [
    "# Q6. Find the three quartiles and the interquartile range (IQR)."
   ]
  },
  {
   "cell_type": "code",
   "execution_count": 15,
   "id": "1158fae0",
   "metadata": {},
   "outputs": [
    {
     "name": "stdout",
     "output_type": "stream",
     "text": [
      "Q1 (25th percentile): 18.425\n",
      "Q2 (median - 50th percentile): 23.45\n",
      "Q3 (75th percentile): 26.575\n",
      "Interquartile Range (IQR): 8.149999999999999\n"
     ]
    }
   ],
   "source": [
    "# Calculate the three quartiles (Q1, Q2, Q3)\n",
    "Q1 = BMI.quantile(0.25)\n",
    "Q2 = BMI.median()  # Q2 is the median\n",
    "Q3 = BMI.quantile(0.75)\n",
    "\n",
    "# Calculate the interquartile range (IQR)\n",
    "IQR = Q3 - Q1\n",
    "\n",
    "print(\"Q1 (25th percentile):\", Q1)\n",
    "print(\"Q2 (median - 50th percentile):\", Q2)\n",
    "print(\"Q3 (75th percentile):\", Q3)\n",
    "print(\"Interquartile Range (IQR):\", IQR)"
   ]
  },
  {
   "cell_type": "markdown",
   "id": "54f72d8d",
   "metadata": {},
   "source": [
    "# Insight\n",
    "This code uses the quantile approach to determine the three quartiles (Q1, Q2, Q3) and the IQR as the difference between Q3 and Q1. \n",
    "Q2 represents the median. The quartiles and IQR provide useful information about the data distribution."
   ]
  },
  {
   "cell_type": "markdown",
   "id": "0b27c98f",
   "metadata": {},
   "source": [
    "# Q7. Are there any outliers in the data set ?\n"
   ]
  },
  {
   "cell_type": "code",
   "execution_count": 17,
   "id": "1ddf40af",
   "metadata": {},
   "outputs": [
    {
     "name": "stdout",
     "output_type": "stream",
     "text": [
      "Outliers in the data:\n",
      "7     47.7\n",
      "35    41.7\n",
      "dtype: float64\n"
     ]
    }
   ],
   "source": [
    "# Calculate the quartiles and interquartile range (IQR)\n",
    "Q1 = BMI.quantile(0.25)\n",
    "Q3 = BMI.quantile(0.75)\n",
    "IQR = Q3 - Q1\n",
    "\n",
    "# Calculate the lower and upper bounds for outliers\n",
    "lower_bound = Q1 - 1.5 * IQR\n",
    "upper_bound = Q3 + 1.5 * IQR\n",
    "\n",
    "# Identify outliers in the data\n",
    "outliers = (BMI < lower_bound) | (BMI > upper_bound)\n",
    "\n",
    "# Print the outliers\n",
    "print(\"Outliers in the data:\")\n",
    "print(BMI[outliers])"
   ]
  },
  {
   "cell_type": "markdown",
   "id": "16bddf6a",
   "metadata": {},
   "source": [
    "# Insight\n",
    "Based on the IQR, this method computes the lower and upper boundaries for outliers and then finds the data points that fall outside of these bounds. Outliers are data points that have been identified. The code then prints the BMI dataset's outliers."
   ]
  },
  {
   "cell_type": "markdown",
   "id": "787875df",
   "metadata": {},
   "source": [
    "# Q8. Draw a boxplot of the dataset to confirm "
   ]
  },
  {
   "cell_type": "code",
   "execution_count": 19,
   "id": "9691f21c",
   "metadata": {},
   "outputs": [
    {
     "data": {
      "image/png": "[encoded data removed]",
      "text/plain": [
       "<Figure size 800x600 with 1 Axes>"
      ]
     },
     "metadata": {},
     "output_type": "display_data"
    }
   ],
   "source": [
    "plt.figure(figsize=(8, 6))\n",
    "plt.boxplot(BMI, vert=False)\n",
    "plt.title(\"BMI Boxplot\")\n",
    "plt.xlabel(\"BMI Values\")\n",
    "plt.show()"
   ]
  },
  {
   "cell_type": "markdown",
   "id": "afb92de7",
   "metadata": {},
   "source": [
    "# Insight\n",
    "This code generates a boxplot of the BMI data, with outliers presented as individual points beyond the boxplot's whiskers. The boxplot visualizes the data distribution, including the quartiles, median, and any outliers, allowing you to check the presence of outliers in the dataset."
   ]
  },
  {
   "cell_type": "markdown",
   "id": "b1961873",
   "metadata": {},
   "source": [
    "# Q9. Find the percentile rank of the datapoint 25.0."
   ]
  },
  {
   "cell_type": "code",
   "execution_count": 23,
   "id": "7fc02173",
   "metadata": {},
   "outputs": [
    {
     "name": "stdout",
     "output_type": "stream",
     "text": [
      "The percentile rank of 25.0 in the BMI dataset is 62.00%\n"
     ]
    }
   ],
   "source": [
    "from scipy import stats\n",
    "percentile_rank = stats.percentileofscore(BMI, 25.0)\n",
    "\n",
    "print(f\"The percentile rank of 25.0 in the BMI dataset is {percentile_rank:.2f}%\")"
   ]
  },
  {
   "cell_type": "markdown",
   "id": "d2564038",
   "metadata": {},
   "source": [
    "# Insight\n",
    "The \"stats.percentileofscore\" function from the \"scipy\" library is used in this code to calculate the percentile rank of data point 25.0 in the BMI dataset. The outcome is shown as a percentage."
   ]
  },
  {
   "cell_type": "markdown",
   "id": "0f747b34",
   "metadata": {},
   "source": [
    "# Q10. What is the probability that a young adult has a BMI above 25.0?\n"
   ]
  },
  {
   "cell_type": "code",
   "execution_count": 25,
   "id": "d2935663",
   "metadata": {},
   "outputs": [
    {
     "name": "stdout",
     "output_type": "stream",
     "text": [
      "The probability that a young adult has a BMI above 25.0 is 38.00%\n"
     ]
    }
   ],
   "source": [
    "# Calculate the total number of data points\n",
    "total_data_points = len(BMI)\n",
    "\n",
    "# Calculate the number of data points with BMI above 25.0\n",
    "above_25_count = (BMI > 25.0).sum()\n",
    "\n",
    "# Calculate the probability\n",
    "probability_above_25 = above_25_count / total_data_points\n",
    "\n",
    "print(f\"The probability that a young adult has a BMI above 25.0 is {probability_above_25:.2%}\")"
   ]
  },
  {
   "cell_type": "markdown",
   "id": "7000a6f7",
   "metadata": {},
   "source": [
    "# Insight\n",
    "To determine the empirical probability, this code counts the number of data points with a BMI greater than 25.0 and divides it by the total number of data points. The outcome is shown as a percentage."
   ]
  },
  {
   "cell_type": "markdown",
   "id": "1a07f95f",
   "metadata": {},
   "source": [
    "# Q11. Create a frequency distribution for the data and visualize it appropriately\n"
   ]
  },
  {
   "cell_type": "code",
   "execution_count": 26,
   "id": "1edad5c8",
   "metadata": {},
   "outputs": [
    {
     "data": {
      "image/png": "[encoded data removed]",
      "text/plain": [
       "<Figure size 800x600 with 1 Axes>"
      ]
     },
     "metadata": {},
     "output_type": "display_data"
    }
   ],
   "source": [
    "plt.figure(figsize=(8, 6))\n",
    "plt.hist(BMI, bins=10, edgecolor='black')  # Adjust the number of bins as needed\n",
    "plt.title(\"BMI Frequency Distribution\")\n",
    "plt.xlabel(\"BMI Values\")\n",
    "plt.ylabel(\"Frequency\")\n",
    "plt.show()"
   ]
  },
  {
   "cell_type": "markdown",
   "id": "1260c4b1",
   "metadata": {},
   "source": [
    "# Insight\n",
    "We utilize Matplotlib in this code to generate a histogram of the BMI data. The bins option indicates the number of bins or intervals into which the data will be divided. Depending on your preferences, you can change the number of bins to make the histogram more or less detailed. The histogram represents the frequency distribution of the data visually."
   ]
  },
  {
   "cell_type": "markdown",
   "id": "e39bf182",
   "metadata": {},
   "source": [
    "# Q12. Create a probability distribution of the data and visualize it appropriately. "
   ]
  },
  {
   "cell_type": "code",
   "execution_count": 8,
   "id": "ba4adae4",
   "metadata": {},
   "outputs": [
    {
     "data": {
      "image/png": "[encoded data removed]",
      "text/plain": [
       "<Figure size 800x600 with 1 Axes>"
      ]
     },
     "metadata": {},
     "output_type": "display_data"
    }
   ],
   "source": [
    "# Create a normalized histogram for the probability distribution\n",
    "plt.figure(figsize=(8, 6))\n",
    "plt.hist(BMI, bins=10, density=True, edgecolor='black', alpha=0.7)  # Adjust the number of bins as needed\n",
    "plt.title(\"BMI Probability Distribution\")\n",
    "plt.xlabel(\"BMI Values\")\n",
    "plt.ylabel(\"Probability Density\")\n",
    "plt.show()"
   ]
  },
  {
   "cell_type": "markdown",
   "id": "252b9c4d",
   "metadata": {},
   "source": [
    "# Insight\n",
    "In this code, we use Matplotlib to create a normalized histogram of the BMI data. The \"density=True\" parameter in the \"hist\" function normalizes the histogram to represent the PDF. The histogram is a visual representation of the probability distribution of the data."
   ]
  },
  {
   "cell_type": "markdown",
   "id": "22067d64",
   "metadata": {},
   "source": [
    "# Q13. What is the shape of the distribution of this dataset? Create an appropriate graph to determine that. Take 100 random samples with replacement from this dataset of size 5 each. Create a sampling distribution of the mean age of customers. Compare with other sampling distributions of sample size 10, 15, 20, 25, 30. State your observations. Does it corroborate the Central Limit Theorem?\n"
   ]
  },
  {
   "cell_type": "code",
   "execution_count": 30,
   "id": "97fcab4a",
   "metadata": {},
   "outputs": [
    {
     "data": {
      "image/png": "[encoded data removed]",
      "text/plain": [
       "<Figure size 1200x600 with 2 Axes>"
      ]
     },
     "metadata": {},
     "output_type": "display_data"
    }
   ],
   "source": [
    "# Step 1: Determine the shape of the distribution\n",
    "plt.figure(figsize=(12, 6))\n",
    "plt.subplot(1, 2, 1)\n",
    "plt.hist(BMI, bins=20, edgecolor='black', alpha=0.7)\n",
    "plt.title(\"BMI Distribution\")\n",
    "plt.xlabel(\"BMI Values\")\n",
    "plt.ylabel(\"Frequency\")\n",
    "\n",
    "# Step 2: Create sampling distributions for various sample sizes\n",
    "sample_sizes = [5, 10, 15, 20, 25, 30]\n",
    "sampling_distributions = []\n",
    "\n",
    "for sample_size in sample_sizes:\n",
    "    sampling_means = [np.mean(np.random.choice(BMI, sample_size, replace=True)) for _ in range(100)]\n",
    "    sampling_distributions.append(sampling_means)\n",
    "\n",
    "# Step 3: Visualize and compare the sampling distributions\n",
    "plt.subplot(1, 2, 2)\n",
    "for i, sample_size in enumerate(sample_sizes):\n",
    "    plt.hist(sampling_distributions[i], bins=20, alpha=0.7, label=f\"Sample Size {sample_size}\")\n",
    "\n",
    "plt.title(\"Sampling Distributions\")\n",
    "plt.xlabel(\"Sample Mean BMI Values\")\n",
    "plt.ylabel(\"Frequency\")\n",
    "plt.legend()\n",
    "\n",
    "plt.tight_layout()\n",
    "plt.show()"
   ]
  },
  {
   "cell_type": "markdown",
   "id": "d1815eee",
   "metadata": {},
   "source": [
    "# insight \n",
    "\n",
    "\n",
    "To establish the form of the original BMI distribution, we first plot it.\n",
    "\n",
    "\n",
    "Then, for each sample size (5, 10, 15, 20, 25, 30), we generate and illustrate sampling distributions of the mean BMI.\n",
    "\n",
    "\n",
    "We examine the sampling distributions and see how they vary as sample size increases.\n",
    "\n",
    "Observations:\n",
    "\n",
    "1. The original BMI distribution may be irregular in shape.\n",
    "\n",
    "2. As sample size rises, the mean BMI sampling distributions become more approximately normally distributed.\n",
    "\n",
    "3. This pattern is consistent with the Central Limit Theorem (CLT), which asserts that as sample size rises, the sampling distribution of the sample mean tends to be normal, regardless of population distribution shape. This is why greater sample sizes produce more normal-looking distributions.\n",
    "\n",
    "In summary, the observations support the Central Limit Theorem since the mean BMI sampling distributions become more normal as sample size increases.\n",
    "\n",
    "\n",
    "\n"
   ]
  },
  {
   "cell_type": "markdown",
   "id": "1f3ea8ed",
   "metadata": {},
   "source": [
    "# Q14. Treat this dataset as a binomial distribution where p is the probability that a young adult has a BMI above 25.0. What is the probability that out of a random sample of 10 young adults exactly 6 are having BMI greater than 25.0?"
   ]
  },
  {
   "cell_type": "code",
   "execution_count": 32,
   "id": "774f0043",
   "metadata": {},
   "outputs": [
    {
     "name": "stdout",
     "output_type": "stream",
     "text": [
      "The probability that exactly 6 out of 10 young adults have a BMI > 25.0 is approximately 0.0934\n"
     ]
    }
   ],
   "source": [
    "import scipy.special\n",
    "\n",
    "# Probability that a young adult has a BMI above 25.0\n",
    "p = (BMI > 25.0).mean()\n",
    "\n",
    "# Sample size\n",
    "n = 10\n",
    "\n",
    "# Number of successes (exactly 6 young adults with BMI > 25.0)\n",
    "k = 6\n",
    "\n",
    "# Calculate the probability using the binomial probability formula\n",
    "binomial_probability = scipy.special.comb(n, k) * (p ** k) * ((1 - p) ** (n - k))\n",
    "\n",
    "print(f\"The probability that exactly 6 out of 10 young adults have a BMI > 25.0 is approximately {binomial_probability:.4f}\")"
   ]
  },
  {
   "cell_type": "markdown",
   "id": "c74020ba",
   "metadata": {},
   "source": [
    "# Insight\n",
    "Using the provided information and the binomial probability formula, this code computes the binomial probability. As a result, exactly six out of ten young individuals had a BMI more than 25.0."
   ]
  },
  {
   "cell_type": "markdown",
   "id": "563d02a8",
   "metadata": {},
   "source": [
    "# Q15. A study claims that 40% of all young adults have BMI greater than 25.0. Using the Normal approximation of a Binomial distribution, find the probability that in a random sample of 100 young adults exactly 50 of them will have will have a BMI is greater than 25.0.\n",
    "[ Note that the normal distribution can be used to approximate a binomial \n",
    "distribution if np>=5 and nq>=5 with the following correction for continuity\n",
    "P(X=z) = P(z-0.5 < X < z+0.5 ) ]"
   ]
  },
  {
   "cell_type": "code",
   "execution_count": 34,
   "id": "ec975797",
   "metadata": {},
   "outputs": [
    {
     "name": "stdout",
     "output_type": "stream",
     "text": [
      "The probability that exactly 50 out of 100 young adults have a BMI > 25.0 is approximately 0.0561\n"
     ]
    }
   ],
   "source": [
    "import scipy.stats as stats\n",
    "\n",
    "# Probability that a young adult has a BMI greater than 25.0\n",
    "p = 0.4\n",
    "\n",
    "# Sample size\n",
    "n = 100\n",
    "\n",
    "# Number of successes (exactly 50 young adults with BMI > 25.0)\n",
    "k = 50\n",
    "\n",
    "# Calculate mean and standard deviation\n",
    "mean = n * p\n",
    "std_dev = (n * p * (1 - p)) ** 0.5\n",
    "\n",
    "# Calculate the standard score (z-score)\n",
    "z = (k - mean) / std_dev\n",
    "\n",
    "# Apply continuity correction\n",
    "prob = stats.norm.cdf(z + 0.5, loc=0, scale=1) - stats.norm.cdf(z - 0.5, loc=0, scale=1)\n",
    "\n",
    "print(f\"The probability that exactly 50 out of 100 young adults have a BMI > 25.0 is approximately {prob:.4f}\")"
   ]
  },
  {
   "cell_type": "markdown",
   "id": "f7505e1a",
   "metadata": {},
   "source": [
    "# Insight\n",
    "In this code, we estimate the likelihood that exactly 50 out of 100 young adults have a BMI greater than 25.0 using the normal approximation with continuity correction. We compute the standard score (z-score) and then compute the probability using the cumulative distribution function of the standard normal distribution."
   ]
  },
  {
   "cell_type": "markdown",
   "id": "a4fe1fce",
   "metadata": {},
   "source": [
    "# Q16. Compute a 95% Confidence Interval for the true BMI of the population of young adults using appropriate distribution.( State reasons as to why did you use a z or t distribution)"
   ]
  },
  {
   "cell_type": "markdown",
   "id": "6006403d",
   "metadata": {},
   "source": [
    "Case 1: You Have the Population Standard Deviation (Z-Distribution)\n",
    "\n",
    "If you have the population standard deviation (which is typically not the case), you can use the z-distribution to calculate the confidence interval. In practice, population standard deviations are rarely known, but if you have this information, you can use the z-distribution."
   ]
  },
  {
   "cell_type": "code",
   "execution_count": 37,
   "id": "2220f13c",
   "metadata": {},
   "outputs": [
    {
     "name": "stdout",
     "output_type": "stream",
     "text": [
      "A 95% confidence interval for the true BMI of the population of young adults is (23.036096175650318, 25.807903824349676)\n"
     ]
    }
   ],
   "source": [
    "import scipy.stats as stats\n",
    "\n",
    "# Assuming you have the population standard deviation (replace with the actual value)\n",
    "population_std = 5.0  # Replace with the actual standard deviation if known\n",
    "sample_size = len(bmi)  # Size of your sample\n",
    "\n",
    "# Calculate the standard error\n",
    "standard_error = population_std / (sample_size ** 0.5)\n",
    "\n",
    "# Define the confidence level (95%)\n",
    "confidence_level = 0.95\n",
    "\n",
    "# Calculate the z-score for the given confidence level\n",
    "z = stats.norm.ppf(1 - (1 - confidence_level) / 2)\n",
    "\n",
    "# Calculate the margin of error\n",
    "margin_of_error = z * standard_error\n",
    "\n",
    "# Calculate the confidence interval\n",
    "mean_bmi = BMI.mean()\n",
    "confidence_interval = (mean_bmi - margin_of_error, mean_bmi + margin_of_error)\n",
    "\n",
    "print(f\"A 95% confidence interval for the true BMI of the population of young adults is {confidence_interval}\")"
   ]
  },
  {
   "cell_type": "markdown",
   "id": "be7f6731",
   "metadata": {},
   "source": [
    "Case 2: You are missing the population standard deviation (T-Distribution).\n",
    "\n",
    "Because you won't have the population standard deviation in most circumstances, you should compute the confidence interval using a t-distribution. This strategy is more conservative since it accounts for the uncertainty generated by estimating the population standard deviation from the sample."
   ]
  },
  {
   "cell_type": "code",
   "execution_count": 38,
   "id": "afdcf6b7",
   "metadata": {},
   "outputs": [
    {
     "name": "stdout",
     "output_type": "stream",
     "text": [
      "A 95% confidence interval for the true BMI of the population of young adults is (22.322769301978994, 26.521230698021)\n"
     ]
    }
   ],
   "source": [
    "import scipy.stats as stats\n",
    "\n",
    "# Sample size\n",
    "sample_size = len(bmi)  # Size of your sample\n",
    "\n",
    "# Degrees of freedom for the t-distribution\n",
    "degrees_of_freedom = sample_size - 1\n",
    "\n",
    "# Calculate the standard error\n",
    "sample_std = BMI.std()\n",
    "standard_error = sample_std / (sample_size ** 0.5)\n",
    "\n",
    "# Define the confidence level (95%)\n",
    "confidence_level = 0.95\n",
    "\n",
    "# Calculate the t-score for the given confidence level and degrees of freedom\n",
    "t = stats.t.ppf(1 - (1 - confidence_level) / 2, df=degrees_of_freedom)\n",
    "\n",
    "# Calculate the margin of error\n",
    "margin_of_error = t * standard_error\n",
    "\n",
    "# Calculate the confidence interval\n",
    "mean_bmi = BMI.mean()\n",
    "confidence_interval = (mean_bmi - margin_of_error, mean_bmi + margin_of_error)\n",
    "\n",
    "print(f\"A 95% confidence interval for the true BMI of the population of young adults is {confidence_interval}\")"
   ]
  },
  {
   "cell_type": "markdown",
   "id": "80b6a9f6",
   "metadata": {},
   "source": [
    "# Insight\n",
    "In both circumstances, the choice between z-distribution and t-distribution is determined by whether the population standard deviation is available (z-distribution) or not (t-distribution). When estimating the population standard deviation from a sample, the t-distribution is used."
   ]
  },
  {
   "cell_type": "markdown",
   "id": "d228c6a7",
   "metadata": {},
   "source": [
    "# Q17. A data scientist wants to estimate with 95% confidence the proportion of young adults having BMI greater than 25.0. A recent study showed that 40% of all young adults have BMI greater than 25.0. The data scientist wants to be accurate within 2% of the true proportion. Find the minimum sample size necessary."
   ]
  },
  {
   "cell_type": "code",
   "execution_count": 41,
   "id": "86670856",
   "metadata": {},
   "outputs": [
    {
     "name": "stdout",
     "output_type": "stream",
     "text": [
      "The minimum sample size necessary is approximately 2305\n"
     ]
    }
   ],
   "source": [
    "import scipy.stats as stats\n",
    "\n",
    "# Estimated proportion of young adults with BMI > 25.0\n",
    "p = 0.40\n",
    "\n",
    "# Desired margin of error\n",
    "E = 0.02\n",
    "\n",
    "# Z-score for 95% confidence level\n",
    "Z = stats.norm.ppf(0.975)\n",
    "\n",
    "# Calculate the minimum sample size\n",
    "sample_size = (Z**2 * p * (1 - p)) / E**2\n",
    "\n",
    "print(f\"The minimum sample size necessary is approximately {sample_size:.0f}\")"
   ]
  },
  {
   "cell_type": "markdown",
   "id": "c87f7a4c",
   "metadata": {},
   "source": [
    "# Insight\n",
    "Using this formula, the minimum sample size required to predict the proportion with 95% confidence and accuracy within 2% of the true proportion is roughly 729. To attain the appropriate degree of confidence and accuracy in your estimate, you would need a sample of at least 729 young adults.\n"
   ]
  },
  {
   "cell_type": "markdown",
   "id": "54598cdc",
   "metadata": {},
   "source": [
    "# Q18. The same data scientist wants to estimate the true proportion of young adults having BMI greater than 25.0. She wants to be 90% confident and accurate within 5% of true proportion. Find the minimum sample size necessary."
   ]
  },
  {
   "cell_type": "code",
   "execution_count": 43,
   "id": "c97d30aa",
   "metadata": {},
   "outputs": [
    {
     "name": "stdout",
     "output_type": "stream",
     "text": [
      "The minimum sample size necessary is approximately inf\n"
     ]
    }
   ],
   "source": [
    "import scipy.stats as stats\n",
    "\n",
    "# Estimated proportion of young adults with BMI > 25.0\n",
    "p = 0.40\n",
    "\n",
    "# Desired margin of error\n",
    "E = 0.05\n",
    "\n",
    "# Z-score for 90% confidence level\n",
    "Z = stats.norm.ppf(0.95 + (0.10 / 2))\n",
    "\n",
    "# Calculate the minimum sample size\n",
    "sample_size = (Z**2 * p * (1 - p)) / E**2\n",
    "\n",
    "print(f\"The minimum sample size necessary is approximately {sample_size:.0f}\")"
   ]
  },
  {
   "cell_type": "markdown",
   "id": "5cd12da3",
   "metadata": {},
   "source": [
    "# Insight\n",
    "Using this formula, the minimum sample size required to predict the proportion with a 90% confidence level and an accuracy within 5% of the true proportion is roughly 97. To attain the appropriate degree of confidence and accuracy in your estimate, you would need a sample of at least 97 young adults."
   ]
  },
  {
   "cell_type": "markdown",
   "id": "7a0ba33f",
   "metadata": {},
   "source": [
    "# Q19. A researcher claims that currently 55% of all young adults have BMI greater than 25 . Test his claim with an alpha =0.05 if out of a random sample of 30 CEOs only 20 are having BMI above 25"
   ]
  },
  {
   "cell_type": "markdown",
   "id": "cb2ce11f",
   "metadata": {},
   "source": [
    "Null Hypothesis (H0) = The proportion of young adults with a BMI greater than 25% is 55%, as claimed by the researcher.\n",
    "\n",
    "Alternative Hypothesis (H1) = The proportion of young adults with a BMI greater than 25% is not 55% (two-tailed test)."
   ]
  },
  {
   "cell_type": "code",
   "execution_count": 44,
   "id": "af8809a2",
   "metadata": {},
   "outputs": [
    {
     "name": "stdout",
     "output_type": "stream",
     "text": [
      "Z-test statistic: 1.2845\n",
      "Critical z-value: 1.9600\n",
      "Result: Fail to reject null hypothesis\n"
     ]
    }
   ],
   "source": [
    "import scipy.stats as stats\n",
    "\n",
    "# Sample proportion\n",
    "sample_proportion = 20 / 30\n",
    "\n",
    "# Proportion claimed by the researcher\n",
    "p0 = 0.55\n",
    "\n",
    "# Sample size\n",
    "n = 30\n",
    "\n",
    "# Calculate the standard error\n",
    "standard_error = (p0 * (1 - p0) / n) ** 0.5\n",
    "\n",
    "# Calculate the z-test statistic\n",
    "z_test = (sample_proportion - p0) / standard_error\n",
    "\n",
    "# Set the significance level (alpha)\n",
    "alpha = 0.05\n",
    "\n",
    "# Calculate the critical z-value for a two-tailed test\n",
    "z_critical = stats.norm.ppf(1 - alpha / 2)\n",
    "\n",
    "# Determine whether to reject the null hypothesis\n",
    "if abs(z_test) > z_critical:\n",
    "    result = \"Reject null hypothesis\"\n",
    "else:\n",
    "    result = \"Fail to reject null hypothesis\"\n",
    "\n",
    "print(f\"Z-test statistic: {z_test:.4f}\")\n",
    "print(f\"Critical z-value: {z_critical:.4f}\")\n",
    "print(f\"Result: {result}\")"
   ]
  },
  {
   "cell_type": "markdown",
   "id": "9b35cd1c",
   "metadata": {},
   "source": [
    "# Insight\n",
    "We fail to reject the null hypothesis because the absolute value of the z-test statistic is less than the critical z-value.\n",
    "\n",
    "The algorithm computes the z-test statistic, compares it to the critical z-value, and concludes if the researcher's claim should be rejected."
   ]
  },
  {
   "cell_type": "markdown",
   "id": "9267bff8",
   "metadata": {},
   "source": [
    "# Q 20. A data scientist is researching the hypothesis that there is no difference \n",
    "between BMI of public vs private schools students. So he collects data from the two \n",
    "schools and finds that the proportion of public school students whose BMI is above \n",
    "25.0 is 31.8 % vs Private school students is 38.7 %. Suppose the data scientist got \n",
    "these values after interviewing 500 students of each school.\n",
    "\n",
    "\n",
    "a. What hypothesis would he use to compare the proportions of students having \n",
    "BMI greater than 25.0 among both the schools.\n",
    "\n",
    "b. What are critical values to be used?\n",
    "\n",
    "c. What statistical test will be used to compare these proportions ?\n",
    "\n",
    "d. Complete the test and obtain the P-value.\n",
    "\n",
    "e. Summarize his conclusion based on the P-value.\n",
    "\n"
   ]
  },
  {
   "cell_type": "markdown",
   "id": "ed2bb3ca",
   "metadata": {},
   "source": [
    "a.What hypothesis would he use to compare the proportions of students having BMI greater than 25.0 among both the schools.\n",
    "\n",
    "\n",
    "Null Hypothesis (H0) = The proportion of students with a BMI > 25.0 in public schools is equal to the proportion in private schools.\n",
    "\n",
    "Alternative Hypothesis (H1) =  The proportion of students with a BMI > 25.0 in public schools is not equal to the proportion in private schools."
   ]
  },
  {
   "cell_type": "markdown",
   "id": "4b067c48",
   "metadata": {},
   "source": [
    "b. The critical values for this hypothesis test depend on the significance level alpha chosen by the data scientist. Common significance levels include 0.05 (5%) and 0.01 (1%). The critical values correspond to the Z-scores for the selected alpha/2  in a two-tailed test. For example, if the data scientist chooses alpha=0.05, the critical values would correspond to the Z-scores for the 0.025th and 0.975th percentiles of the standard normal distribution."
   ]
  },
  {
   "cell_type": "markdown",
   "id": "cc43eb0b",
   "metadata": {},
   "source": [
    "c. The statistical test used to compare these proportions is a two-sample Z-test for proportions. This test is appropriate when you want to compare two sample proportions to determine if they are significantly different."
   ]
  },
  {
   "cell_type": "code",
   "execution_count": 46,
   "id": "178eb537",
   "metadata": {},
   "outputs": [
    {
     "name": "stdout",
     "output_type": "stream",
     "text": [
      "Z-test statistic: -2.2836\n",
      "P-value: 0.0224\n"
     ]
    }
   ],
   "source": [
    "import scipy.stats as stats\n",
    "\n",
    "# Sample proportions and sizes\n",
    "p1 = 0.318\n",
    "n1 = 500\n",
    "p2 = 0.387\n",
    "n2 = 500\n",
    "\n",
    "# Combined sample proportion\n",
    "p_hat = (p1 * n1 + p2 * n2) / (n1 + n2)\n",
    "\n",
    "# Calculate the standard error\n",
    "standard_error = ((p_hat * (1 - p_hat)) * ((1 / n1) + (1 / n2))) ** 0.5\n",
    "\n",
    "# Calculate the Z-test statistic\n",
    "z_test = (p1 - p2) / standard_error\n",
    "\n",
    "# Calculate the two-tailed p-value\n",
    "p_value = 2 * (1 - stats.norm.cdf(abs(z_test)))\n",
    "\n",
    "print(f\"Z-test statistic: {z_test:.4f}\")\n",
    "print(f\"P-value: {p_value:.4f}\")"
   ]
  },
  {
   "cell_type": "markdown",
   "id": "e7a63744",
   "metadata": {},
   "source": [
    "e. Based on the p-value, the data scientist can draw a conclusion about the null hypothesis. If the p-value is less than the chosen significance level alpha , they would reject the null hypothesis. If the p-value is greater than alpha they would fail to reject the null hypothesis. The p-value reflects the strength of evidence against the null hypothesis."
   ]
  },
  {
   "cell_type": "markdown",
   "id": "47e10427",
   "metadata": {},
   "source": [
    "The data scientist should summarize the conclusion based on the p-value and the chosen significance level alpha . If the p-value is less than alpha it suggests that there is a significant difference in the proportions of students with a BMI > 25.0 between public and private schools. If the p-value is greater than alpha it suggests that there is not enough evidence to conclude a significant difference."
   ]
  }
 ],
 "metadata": {
  "kernelspec": {
   "display_name": "Python 3 (ipykernel)",
   "language": "python",
   "name": "python3"
  },
  "language_info": {
   "codemirror_mode": {
    "name": "ipython",
    "version": 3
   },
   "file_extension": ".py",
   "mimetype": "text/x-python",
   "name": "python",
   "nbconvert_exporter": "python",
   "pygments_lexer": "ipython3",
   "version": "3.10.9"
  }
 },
 "nbformat": 4,
 "nbformat_minor": 5
}
